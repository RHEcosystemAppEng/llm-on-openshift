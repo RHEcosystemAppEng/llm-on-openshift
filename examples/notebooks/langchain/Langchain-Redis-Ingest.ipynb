{
 "cells": [
  {
   "cell_type": "markdown",
   "id": "3420575b-4d00-458b-aa0e-7030008ccd53",
   "metadata": {},
   "source": [
    "## Creating an index and populating it with documents using Redis\n",
    "\n",
    "Simple example on how to ingest PDF documents, then web pages content into a Redis VectorStore.\n",
    "\n",
    "Requirements:\n",
    "- A Redis cluster\n",
    "- A Redis database with at least 2GB of memory (to match with the initial index cap)"
   ]
  },
  {
   "cell_type": "code",
   "execution_count": null,
   "id": "f8a624d4-f587-4131-a11a-08ffd95b100d",
   "metadata": {
    "tags": []
   },
   "outputs": [],
   "source": [
    "!pip install langchain boto3 botocore sentence-transformers redis pypdf"
   ]
  },
  {
   "cell_type": "code",
   "execution_count": null,
   "id": "313982f1-7d56-41fd-9bbc-1f1030fbbe0b",
   "metadata": {
    "tags": []
   },
   "outputs": [],
   "source": [
    "# The below code assumes a s3 Data connection to the said bucket is established\n",
    "# and is the standar environment variables are injected to this notebook.\n",
    "\n",
    "import boto3\n",
    "import os\n",
    "import botocore\n",
    "\n",
    "# Accessing the environment variable set via Data Connection\n",
    "AWS_S3_BUCKET = os.environ.get('AWS_S3_BUCKET')\n",
    "FOLDER_PREFIX = os.environ.get('FOLDER_PREFIX')\n",
    "\n",
    "if AWS_S3_BUCKET is None or FOLDER_PREFIX is None:\n",
    "    raise ValueError(\"One or more environment variables are not set\")\n",
    "\n",
    "print(f\"{AWS_S3_BUCKET}{FOLDER_PREFIX}\")\n",
    "\n",
    "# Function to download a folder from S3 without checking for existing files\n",
    "def download_folder_from_s3(bucket_name, folder_prefix, local_path):\n",
    "    s3 = boto3.client('s3')\n",
    "    paginator = s3.get_paginator('list_objects_v2')\n",
    "    for result in paginator.paginate(Bucket=bucket_name, Prefix=folder_prefix):\n",
    "        if 'Contents' in result:\n",
    "            for obj in result['Contents']:\n",
    "                key = obj['Key']\n",
    "                if key.endswith('/'):  # Skip directories\n",
    "                    continue\n",
    "                dest_file_path = os.path.join(local_path, key[len(folder_prefix):])\n",
    "                try:\n",
    "                    os.makedirs(os.path.dirname(dest_file_path), exist_ok=True)\n",
    "                    s3.download_file(bucket_name, key, dest_file_path)\n",
    "                    print(f\"Downloaded: {key} to {dest_file_path}\")\n",
    "                except botocore.exceptions.ClientError as e:\n",
    "                    print(f\"Error downloading {key}: {e}\")\n",
    "\n",
    "# Define the folder prefix and local directory\n",
    "LOCAL_DIRECTORY = FOLDER_PREFIX\n",
    "\n",
    "# Download the folder from S3\n",
    "download_folder_from_s3(AWS_S3_BUCKET, FOLDER_PREFIX, LOCAL_DIRECTORY)"
   ]
  },
  {
   "cell_type": "markdown",
   "id": "1a82063d-6153-4812-8977-042241736b53",
   "metadata": {},
   "source": [
    "### Base parameters, the Redis info"
   ]
  },
  {
   "cell_type": "code",
   "execution_count": null,
   "id": "417ed4a4-9418-4f48-bebd-ef0ea11ae434",
   "metadata": {
    "tags": []
   },
   "outputs": [],
   "source": [
    "# Access the environment variables\n",
    "db_pass = os.getenv(\"DB_PASS\")\n",
    "port = os.getenv(\"PORT\")\n",
    "service_name = os.getenv(\"SERVICE_NAME\")\n",
    "redis_namespace = os.getenv(\"REDIS_NAMESPACE\")\n",
    "\n",
    "# Check if any variable is None or empty string\n",
    "if db_pass is None or port is None or service_name is None or redis_namespace is None:\n",
    "    raise ValueError(\"One or more environment variables are not set\")\n",
    "\n",
    "# Alternatively, you can check if any variable is an empty string\n",
    "if not db_pass or not port or not service_name or not redis_namespace:\n",
    "    raise ValueError(\"One or more environment variables are empty\")\n",
    "\n",
    "redis_url = f\"redis://default:{db_pass}@{service_name}.{redis_namespace}.svc.cluster.local:{port}\"\n",
    "print(redis_url)\n",
    "index_name = \"docs\""
   ]
  },
  {
   "cell_type": "markdown",
   "id": "9b499a49-128c-4be5-903b-76c40771c7bc",
   "metadata": {
    "tags": []
   },
   "source": [
    "#### Imports"
   ]
  },
  {
   "cell_type": "code",
   "execution_count": null,
   "id": "600cd763-6ecc-4c77-89c0-47108c31c44e",
   "metadata": {
    "tags": []
   },
   "outputs": [],
   "source": [
    "from langchain.document_loaders import PyPDFDirectoryLoader\n",
    "from langchain.text_splitter import RecursiveCharacterTextSplitter\n",
    "from langchain.embeddings.huggingface import HuggingFaceEmbeddings\n",
    "from langchain.vectorstores.redis import Redis"
   ]
  },
  {
   "cell_type": "markdown",
   "id": "f68f6785-480e-4519-be4f-8e1738dba4ca",
   "metadata": {},
   "source": [
    "## Initial index creation and document ingestion"
   ]
  },
  {
   "cell_type": "markdown",
   "id": "f8cff5f7-c509-48db-90b5-e15815b8b530",
   "metadata": {},
   "source": [
    "#### Document loading from a folder containing PDFs"
   ]
  },
  {
   "cell_type": "code",
   "execution_count": null,
   "id": "dde8a4a3-d602-49c6-b4a5-31a76b25a58b",
   "metadata": {
    "tags": []
   },
   "outputs": [],
   "source": [
    "pdf_folder_path = \"rhoai-docs\"\n",
    "\n",
    "loader = PyPDFDirectoryLoader(pdf_folder_path)\n",
    "docs = loader.load()"
   ]
  },
  {
   "cell_type": "markdown",
   "id": "4198fe0a-38bf-4cd4-af7d-35b41c645edd",
   "metadata": {},
   "source": [
    "#### Split documents into chunks with some overlap"
   ]
  },
  {
   "cell_type": "code",
   "execution_count": null,
   "id": "edba4a08-2194-4df1-9091-6f2b596757a1",
   "metadata": {
    "tags": []
   },
   "outputs": [],
   "source": [
    "text_splitter = RecursiveCharacterTextSplitter(chunk_size=1024,\n",
    "                                               chunk_overlap=40)\n",
    "all_splits = text_splitter.split_documents(docs)"
   ]
  },
  {
   "cell_type": "markdown",
   "id": "7ae7eae2-c670-4eb5-803b-b4d591fa83db",
   "metadata": {},
   "source": [
    "#### Create the index and ingest the documents"
   ]
  },
  {
   "cell_type": "code",
   "execution_count": null,
   "id": "bbb6a3e3-5ccd-441e-b80d-427555d9e9f6",
   "metadata": {
    "tags": []
   },
   "outputs": [],
   "source": [
    "embeddings = HuggingFaceEmbeddings()\n",
    "rds = Redis.from_documents(all_splits,\n",
    "                           embeddings,\n",
    "                           redis_url=redis_url,\n",
    "                           index_name=index_name)"
   ]
  },
  {
   "cell_type": "markdown",
   "id": "4940a12c-7a13-4a81-94b2-415f1440e9c3",
   "metadata": {},
   "source": [
    "#### Write the schema to a yaml file to be able to open the index later on"
   ]
  },
  {
   "cell_type": "code",
   "execution_count": null,
   "id": "f445a19a-debb-4d66-b859-37c53f6d3095",
   "metadata": {
    "tags": []
   },
   "outputs": [],
   "source": [
    "rds.write_schema(\"redis_schema.yaml\")"
   ]
  },
  {
   "cell_type": "markdown",
   "id": "8d9d4869-be21-4cf4-a72c-2e58bcc1ab43",
   "metadata": {},
   "source": [
    "## Ingesting new documents"
   ]
  },
  {
   "cell_type": "markdown",
   "id": "d3052c81-7652-4ef0-acaf-883608a9ff85",
   "metadata": {},
   "source": [
    "#### Example with Web pages"
   ]
  },
  {
   "cell_type": "code",
   "execution_count": null,
   "id": "998bcc21-d03c-4889-83a6-09c62cab25eb",
   "metadata": {
    "tags": []
   },
   "outputs": [],
   "source": [
    "from langchain.document_loaders import WebBaseLoader"
   ]
  },
  {
   "cell_type": "code",
   "execution_count": null,
   "id": "354cfe78-9d90-404a-8648-98fb2e79ff6d",
   "metadata": {
    "tags": []
   },
   "outputs": [],
   "source": [
    "loader = WebBaseLoader([\"https://ai-on-openshift.io/getting-started/openshift/\",\n",
    "                        \"https://ai-on-openshift.io/getting-started/opendatahub/\",\n",
    "                        \"https://ai-on-openshift.io/getting-started/openshift-data-science/\",\n",
    "                        \"https://ai-on-openshift.io/odh-rhods/configuration/\",\n",
    "                        \"https://ai-on-openshift.io/odh-rhods/custom-notebooks/\",\n",
    "                        \"https://ai-on-openshift.io/odh-rhods/nvidia-gpus/\",\n",
    "                        \"https://ai-on-openshift.io/odh-rhods/custom-runtime-triton/\",\n",
    "                        \"https://ai-on-openshift.io/odh-rhods/openshift-group-management/\",\n",
    "                        \"https://ai-on-openshift.io/tools-and-applications/minio/minio/\"\n",
    "                       ])"
   ]
  },
  {
   "cell_type": "code",
   "execution_count": null,
   "id": "8ab4eaf5-d177-4410-ae9d-a012f7ffafad",
   "metadata": {
    "tags": []
   },
   "outputs": [],
   "source": [
    "data = loader.load()"
   ]
  },
  {
   "cell_type": "code",
   "execution_count": null,
   "id": "92838fe4-5b33-4835-b7e3-643ddef952c2",
   "metadata": {
    "tags": []
   },
   "outputs": [],
   "source": [
    "text_splitter = RecursiveCharacterTextSplitter(chunk_size=1024,\n",
    "                                               chunk_overlap=40)\n",
    "all_splits = text_splitter.split_documents(data)"
   ]
  },
  {
   "cell_type": "code",
   "execution_count": null,
   "id": "ffd66d87-8314-4b2f-9c02-e856e1035e6b",
   "metadata": {
    "tags": []
   },
   "outputs": [],
   "source": [
    "embeddings = HuggingFaceEmbeddings()\n",
    "rds = Redis.from_existing_index(embeddings,\n",
    "                                redis_url=redis_url,\n",
    "                                index_name=index_name,\n",
    "                                schema=\"redis_schema.yaml\")"
   ]
  },
  {
   "cell_type": "code",
   "execution_count": null,
   "id": "9d2355aa-5096-482a-ac39-4d285e63fb39",
   "metadata": {
    "tags": []
   },
   "outputs": [],
   "source": [
    "rds.add_documents(all_splits)"
   ]
  }
 ],
 "metadata": {
  "kernelspec": {
   "display_name": "Python 3.9",
   "language": "python",
   "name": "python3"
  },
  "language_info": {
   "codemirror_mode": {
    "name": "ipython",
    "version": 3
   },
   "file_extension": ".py",
   "mimetype": "text/x-python",
   "name": "python",
   "nbconvert_exporter": "python",
   "pygments_lexer": "ipython3",
   "version": "3.9.16"
  }
 },
 "nbformat": 4,
 "nbformat_minor": 5
}
