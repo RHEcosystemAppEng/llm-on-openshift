{
 "cells": [
  {
   "cell_type": "code",
   "execution_count": null,
   "id": "fc475090-1de0-4df2-a254-0ded93d4d1ed",
   "metadata": {},
   "outputs": [],
   "source": [
    "# The below code assumes a s3 Data connection to the said bucket is established\n",
    "# and is the standar environment variables are injected to this notebook.\n",
    "\n",
    "import boto3\n",
    "import os\n",
    "\n",
    "# Accessing the environment variable set via Data Connection\n",
    "AWS_S3_BUCKET = os.environ.get('AWS_S3_BUCKET')\n",
    "FOLDER_PREFIX = os.environ.get('FOLDER_PREFIX')\n",
    "\n",
    "# Function to download a folder from S3 without checking for existing files\n",
    "def download_folder_from_s3(bucket_name, folder_prefix, local_path):\n",
    "    s3 = boto3.client('s3')\n",
    "    paginator = s3.get_paginator('list_objects_v2')\n",
    "    for result in paginator.paginate(Bucket=bucket_name, Prefix=folder_prefix):\n",
    "        if 'Contents' in result:\n",
    "            for obj in result['Contents']:\n",
    "                key = obj['Key']\n",
    "                if key.endswith('/'):  # Skip directories\n",
    "                    continue\n",
    "                dest_file_path = os.path.join(local_path, key[len(folder_prefix):])\n",
    "                try:\n",
    "                    os.makedirs(os.path.dirname(dest_file_path), exist_ok=True)\n",
    "                    s3.download_file(bucket_name, key, dest_file_path)\n",
    "                    print(f\"Downloaded: {key} to {dest_file_path}\")\n",
    "                except botocore.exceptions.ClientError as e:\n",
    "                    print(f\"Error downloading {key}: {e}\")\n",
    "\n",
    "# Define the folder prefix and local directory\n",
    "LOCAL_DIRECTORY = FOLDER_PREFIX\n",
    "\n",
    "# Download the folder from S3\n",
    "download_folder_from_s3(AWS_S3_BUCKET, FOLDER_PREFIX, LOCAL_DIRECTORY)"
   ]
  }
 ],
 "metadata": {
  "kernelspec": {
   "display_name": "Python 3.9",
   "language": "python",
   "name": "python3"
  },
  "language_info": {
   "codemirror_mode": {
    "name": "ipython",
    "version": 3
   },
   "file_extension": ".py",
   "mimetype": "text/x-python",
   "name": "python",
   "nbconvert_exporter": "python",
   "pygments_lexer": "ipython3",
   "version": "3.9.16"
  }
 },
 "nbformat": 4,
 "nbformat_minor": 5
}
